{
  "nbformat": 4,
  "nbformat_minor": 0,
  "metadata": {
    "colab": {
      "provenance": []
    },
    "kernelspec": {
      "name": "python3",
      "display_name": "Python 3"
    },
    "language_info": {
      "name": "python"
    }
  },
  "cells": [
    {
      "cell_type": "markdown",
      "source": [
        "#Challenge Técnico - Data Scientist - YOM  \n",
        "\n",
        "\n",
        "\n",
        "Alejandro Espinoza\n",
        "\n",
        "aa.espinoza.perez@gmail.com\n",
        "\n",
        "http://linkedin.com/in/aaep/\n",
        "\n",
        "Lunes 23 de septiembre, 2024"
      ],
      "metadata": {
        "id": "V22N5DnqIw5b"
      }
    },
    {
      "cell_type": "markdown",
      "source": [
        "## Contexto e Introducción"
      ],
      "metadata": {
        "id": "hQF4nUS8JWn2"
      }
    },
    {
      "cell_type": "markdown",
      "source": [
        "A continuación se presenta el notebook de python para el desarrollo del Challenge Técnico para el proceso de postulación al cargo de Data Scientist en YOM.\n",
        "\n",
        "El desafío consta del desarrollo de un sistema de recomendación para la empresa Mayorista11 con el fin de optimizar las recomendaciones para comercios locales. Para esto contamos con 3 archivos de datos en formato CSV, los cuales se encuentran en la ruta '/content/data' y contienen:\n",
        "  1. Historial de transacciones de cada comercio\n",
        "  2. Información de los comercios\n",
        "  3. Información de productos\n",
        "\n",
        "El trabajo desarrollado a continuación se abordara en 3 secciones, empezando por la exploración de la data con el fin de entender su contenido, caracteristicas estadisticas, calidad del dato y procesamiento de nulos en caso de ser necesario.\n",
        "\n",
        "En la segunda sección se aborda la division de los comercios por comuna, con el objetivo de poder asignar caracteristicas difinitorias a cada comuna y poder establecer similitudes entre productos y comercios.\n",
        "\n",
        "En la tercera sección se propone y desarrolla el sistema de recomendación, donde se abordará una estretegia segun el enunciado."
      ],
      "metadata": {
        "id": "dmr_NMzaJcTF"
      }
    },
    {
      "cell_type": "markdown",
      "source": [
        "## Librerias"
      ],
      "metadata": {
        "id": "MCy2AQW9Nilj"
      }
    },
    {
      "cell_type": "code",
      "execution_count": 1,
      "metadata": {
        "id": "dfT5_b0qIwNB"
      },
      "outputs": [],
      "source": [
        "import pandas as pd\n"
      ]
    },
    {
      "cell_type": "markdown",
      "source": [
        "## Carga y Análisis descriptivo de la data"
      ],
      "metadata": {
        "id": "I8_-wfzaSkAH"
      }
    },
    {
      "cell_type": "code",
      "source": [
        "# Carga de datasets a dataframes\n",
        "commerces_df = pd.read_csv('/content/data/commerces.csv')\n",
        "product_df = pd.read_csv('/content/data/product.csv')\n",
        "transactions_df = pd.read_csv('/content/data/transactions.csv')\n",
        "\n",
        "(commerces_df.head(),product_df.head(),transactions_df.head())"
      ],
      "metadata": {
        "colab": {
          "base_uri": "https://localhost:8080/"
        },
        "id": "d-_Moo6ZSIgP",
        "outputId": "0fcb47b5-6e4f-4c7b-d717-e645bbb06b98"
      },
      "execution_count": 6,
      "outputs": [
        {
          "output_type": "execute_result",
          "data": {
            "text/plain": [
              "(   id_commerce     district\n",
              " 0            1  Providencia\n",
              " 1            2    Penalolen\n",
              " 2            3    Penalolen\n",
              " 3            4        Nunoa\n",
              " 4            5        Nunoa,\n",
              "    id_product        name     category  price\n",
              " 0           1  Producto 1        Hogar     54\n",
              " 1           2  Producto 2  Electrónica     76\n",
              " 2           3  Producto 3        Hogar     67\n",
              " 3           4  Producto 4    Alimentos     95\n",
              " 4           5  Producto 5         Ropa     95,\n",
              "    id_commerce  id_product  quantity  price\n",
              " 0           27          17         6    324\n",
              " 1           64          50         7    693\n",
              " 2           49           5         4    380\n",
              " 3           58          22         4    168\n",
              " 4            9          33         7    343)"
            ]
          },
          "metadata": {},
          "execution_count": 6
        }
      ]
    },
    {
      "cell_type": "code",
      "source": [
        "# analisis rápido de los data set con info de pandas\n",
        "commerces_info = commerces_df.info()\n",
        "product_info = product_df.info()\n",
        "transactions_info = transactions_df.info()\n",
        "\n",
        "# aplicamos describe para tener un resumen estadistico\n",
        "commerces_description = commerces_df.describe()\n",
        "product_description = product_df.describe()\n",
        "transactions_description = transactions_df.describe()\n",
        "\n",
        "# revision de nulos\n",
        "commerces_nulls = commerces_df.isnull().sum()\n",
        "product_nulls = product_df.isnull().sum()\n",
        "transactions_nulls = transactions_df.isnull().sum()\n",
        "\n",
        "\n",
        "(commerces_info, product_info, transactions_info,\n",
        " commerces_description, product_description, transactions_description,\n",
        " commerces_nulls, product_nulls, transactions_nulls)"
      ],
      "metadata": {
        "colab": {
          "base_uri": "https://localhost:8080/"
        },
        "id": "3tyzqNpGQwPs",
        "outputId": "df3bcaf0-37c5-4fbb-e64d-d04e4c57bc6c"
      },
      "execution_count": 4,
      "outputs": [
        {
          "output_type": "stream",
          "name": "stdout",
          "text": [
            "<class 'pandas.core.frame.DataFrame'>\n",
            "RangeIndex: 100 entries, 0 to 99\n",
            "Data columns (total 2 columns):\n",
            " #   Column       Non-Null Count  Dtype \n",
            "---  ------       --------------  ----- \n",
            " 0   id_commerce  100 non-null    int64 \n",
            " 1   district     100 non-null    object\n",
            "dtypes: int64(1), object(1)\n",
            "memory usage: 1.7+ KB\n",
            "<class 'pandas.core.frame.DataFrame'>\n",
            "RangeIndex: 50 entries, 0 to 49\n",
            "Data columns (total 4 columns):\n",
            " #   Column      Non-Null Count  Dtype \n",
            "---  ------      --------------  ----- \n",
            " 0   id_product  50 non-null     int64 \n",
            " 1   name        50 non-null     object\n",
            " 2   category    50 non-null     object\n",
            " 3   price       50 non-null     int64 \n",
            "dtypes: int64(2), object(2)\n",
            "memory usage: 1.7+ KB\n",
            "<class 'pandas.core.frame.DataFrame'>\n",
            "RangeIndex: 500000 entries, 0 to 499999\n",
            "Data columns (total 4 columns):\n",
            " #   Column       Non-Null Count   Dtype\n",
            "---  ------       --------------   -----\n",
            " 0   id_commerce  500000 non-null  int64\n",
            " 1   id_product   500000 non-null  int64\n",
            " 2   quantity     500000 non-null  int64\n",
            " 3   price        500000 non-null  int64\n",
            "dtypes: int64(4)\n",
            "memory usage: 15.3 MB\n"
          ]
        },
        {
          "output_type": "execute_result",
          "data": {
            "text/plain": [
              "(None,\n",
              " None,\n",
              " None,\n",
              "        id_commerce\n",
              " count   100.000000\n",
              " mean     50.500000\n",
              " std      29.011492\n",
              " min       1.000000\n",
              " 25%      25.750000\n",
              " 50%      50.500000\n",
              " 75%      75.250000\n",
              " max     100.000000,\n",
              "        id_product      price\n",
              " count    50.00000  50.000000\n",
              " mean     25.50000  56.600000\n",
              " std      14.57738  26.204066\n",
              " min       1.00000  10.000000\n",
              " 25%      13.25000  37.250000\n",
              " 50%      25.50000  54.500000\n",
              " 75%      37.75000  80.000000\n",
              " max      50.00000  99.000000,\n",
              "          id_commerce     id_product       quantity          price\n",
              " count  500000.000000  500000.000000  500000.000000  500000.000000\n",
              " mean       50.540948      25.495818       5.004330     283.329010\n",
              " std        28.842359      14.421320       2.585476     206.799043\n",
              " min         1.000000       1.000000       1.000000      10.000000\n",
              " 25%        26.000000      13.000000       3.000000     108.000000\n",
              " 50%        51.000000      25.000000       5.000000     240.000000\n",
              " 75%        76.000000      38.000000       7.000000     415.000000\n",
              " max       100.000000      50.000000       9.000000     891.000000,\n",
              " id_commerce    0\n",
              " district       0\n",
              " dtype: int64,\n",
              " id_product    0\n",
              " name          0\n",
              " category      0\n",
              " price         0\n",
              " dtype: int64,\n",
              " id_commerce    0\n",
              " id_product     0\n",
              " quantity       0\n",
              " price          0\n",
              " dtype: int64)"
            ]
          },
          "metadata": {},
          "execution_count": 4
        }
      ]
    },
    {
      "cell_type": "markdown",
      "source": [
        "## Top Products por Comuna"
      ],
      "metadata": {
        "id": "9crA2q-ZStYZ"
      }
    },
    {
      "cell_type": "code",
      "source": [
        "#Como uno de los requisitos es ver patrones dentro de la misma comuna, se crearán clusters para cada comuna\n",
        "commerces_df['district'].unique()\n"
      ],
      "metadata": {
        "colab": {
          "base_uri": "https://localhost:8080/"
        },
        "id": "5rh1uUoOTIxL",
        "outputId": "76d895d9-0e22-4c5c-c672-3cfbfb051b80"
      },
      "execution_count": 18,
      "outputs": [
        {
          "output_type": "execute_result",
          "data": {
            "text/plain": [
              "array(['Providencia', 'Penalolen', 'Nunoa', 'Macul', 'La Florida'],\n",
              "      dtype=object)"
            ]
          },
          "metadata": {},
          "execution_count": 18
        }
      ]
    },
    {
      "cell_type": "code",
      "source": [
        "# Funciones para obtener los Top Products por comuna con el % mas vendido una para unidades y otra para Monto recaudado\n",
        "def top_units_por_comuna(commerces_df, district_name, transactions_df, perc=0.2):\n",
        "\n",
        "    # Filtrar los comercios de la comuna específica\n",
        "    district_commerces = commerces_df[commerces_df['district'] == district_name]['id_commerce']\n",
        "\n",
        "    # Filtrar las transacciones de estos comercios\n",
        "    district_transactions = transactions_df[transactions_df['id_commerce'].isin(district_commerces)]\n",
        "\n",
        "    # Agrupar por producto y sumar las cantidades vendidas\n",
        "    product_sales = district_transactions.groupby('id_product')['quantity'].sum().sort_values(ascending=False)\n",
        "\n",
        "    # Calcular el 20% superior de productos\n",
        "    top_percent_cutoff = int(len(product_sales) * perc)\n",
        "    top_products = product_sales.head(top_percent_cutoff)\n",
        "\n",
        "    return top_products\n",
        "\n",
        "def top_nmv_por_comuna(commerces_df, district_name, transactions_df, perc=0.2):\n",
        "\n",
        "    # Filtrar los comercios de la comuna específica\n",
        "    district_commerces = commerces_df[commerces_df['district'] == district_name]['id_commerce']\n",
        "\n",
        "    # Filtrar las transacciones de estos comercios\n",
        "    district_transactions = transactions_df[transactions_df['id_commerce'].isin(district_commerces)]\n",
        "\n",
        "    # Agrupar por producto y sumar las cantidades vendidas\n",
        "    product_sales = district_transactions.groupby('id_product')['price'].sum().sort_values(ascending=False)\n",
        "\n",
        "    # Calcular el 20% superior de productos\n",
        "    top_percent_cutoff = int(len(product_sales) * perc)\n",
        "    top_products = product_sales.head(top_percent_cutoff)\n",
        "\n",
        "    return top_products\n",
        "\n"
      ],
      "metadata": {
        "id": "GY7-iwL8UjkR"
      },
      "execution_count": 28,
      "outputs": []
    },
    {
      "cell_type": "code",
      "source": [
        "# Top Products (unidades) por comuna\n",
        "top_units_pro = top_units_por_comuna(commerces_df, 'Providencia', transactions_df)\n",
        "top_units_pen = top_units_por_comuna(commerces_df, 'Penalolen', transactions_df)\n",
        "top_units_nun = top_units_por_comuna(commerces_df, 'Nunoa', transactions_df)\n",
        "top_units_mac = top_units_por_comuna(commerces_df, 'Macul', transactions_df)\n",
        "top_units_flo = top_units_por_comuna(commerces_df, 'La Florida', transactions_df)\n",
        "\n",
        "(top_units_pro, top_units_pen, top_units_nun, top_units_mac, top_units_flo)"
      ],
      "metadata": {
        "colab": {
          "base_uri": "https://localhost:8080/"
        },
        "id": "873oRFmffJmp",
        "outputId": "55eee949-088d-4856-8316-54a257da80af"
      },
      "execution_count": 29,
      "outputs": [
        {
          "output_type": "execute_result",
          "data": {
            "text/plain": [
              "(id_product\n",
              " 9     10014\n",
              " 22     9982\n",
              " 34     9898\n",
              " 7      9842\n",
              " 26     9828\n",
              " 14     9808\n",
              " 21     9763\n",
              " 49     9756\n",
              " 20     9727\n",
              " 5      9712\n",
              " Name: quantity, dtype: int64,\n",
              " id_product\n",
              " 2     13630\n",
              " 31    13584\n",
              " 50    13542\n",
              " 8     13470\n",
              " 10    13418\n",
              " 20    13371\n",
              " 7     13308\n",
              " 24    13270\n",
              " 47    13236\n",
              " 25    13234\n",
              " Name: quantity, dtype: int64,\n",
              " id_product\n",
              " 4     11268\n",
              " 28    10901\n",
              " 34    10886\n",
              " 8     10847\n",
              " 30    10846\n",
              " 38    10824\n",
              " 47    10796\n",
              " 16    10756\n",
              " 15    10701\n",
              " 9     10697\n",
              " Name: quantity, dtype: int64,\n",
              " id_product\n",
              " 29    8059\n",
              " 22    7997\n",
              " 45    7937\n",
              " 2     7929\n",
              " 17    7885\n",
              " 21    7796\n",
              " 10    7785\n",
              " 36    7718\n",
              " 50    7712\n",
              " 28    7707\n",
              " Name: quantity, dtype: int64,\n",
              " id_product\n",
              " 24    10007\n",
              " 16     9972\n",
              " 1      9836\n",
              " 22     9822\n",
              " 29     9789\n",
              " 48     9766\n",
              " 45     9741\n",
              " 30     9643\n",
              " 47     9623\n",
              " 9      9620\n",
              " Name: quantity, dtype: int64)"
            ]
          },
          "metadata": {},
          "execution_count": 29
        }
      ]
    },
    {
      "cell_type": "code",
      "source": [
        "# Top Products (nmv) por comuna\n",
        "top_nmv_pro = top_nmv_por_comuna(commerces_df, 'Providencia', transactions_df)\n",
        "top_nmv_pen = top_nmv_por_comuna(commerces_df, 'Penalolen', transactions_df)\n",
        "top_nmv_nun = top_nmv_por_comuna(commerces_df, 'Nunoa', transactions_df)\n",
        "top_nmv_mac = top_nmv_por_comuna(commerces_df, 'Macul', transactions_df)\n",
        "top_nmv_flo = top_nmv_por_comuna(commerces_df, 'La Florida', transactions_df)\n",
        "\n",
        "(top_nmv_pro, top_nmv_pen, top_nmv_nun, top_nmv_mac, top_nmv_flo)"
      ],
      "metadata": {
        "colab": {
          "base_uri": "https://localhost:8080/"
        },
        "id": "m0Ql_ax1fcmA",
        "outputId": "16bcea13-7a78-4e1d-c958-5f69a22d5cda"
      },
      "execution_count": 30,
      "outputs": [
        {
          "output_type": "execute_result",
          "data": {
            "text/plain": [
              "(id_product\n",
              " 14    931760\n",
              " 5     922640\n",
              " 25    913824\n",
              " 19    913164\n",
              " 50    907038\n",
              " 4     892525\n",
              " 40    821025\n",
              " 35    801282\n",
              " 8     793178\n",
              " 38    788928\n",
              " Name: price, dtype: int64,\n",
              " id_product\n",
              " 50    1340658\n",
              " 19    1271746\n",
              " 25    1270464\n",
              " 4     1252005\n",
              " 14    1232815\n",
              " 5     1186645\n",
              " 40    1174978\n",
              " 8     1158420\n",
              " 38    1085448\n",
              " 7     1064640\n",
              " Name: price, dtype: int64,\n",
              " id_product\n",
              " 4     1070460\n",
              " 50    1042470\n",
              " 19    1041054\n",
              " 14    1005195\n",
              " 25    1003296\n",
              " 5      986005\n",
              " 40     933521\n",
              " 8      932842\n",
              " 38     909216\n",
              " 15     877482\n",
              " Name: price, dtype: int64,\n",
              " id_product\n",
              " 50    763488\n",
              " 19    738528\n",
              " 5     724660\n",
              " 14    718960\n",
              " 25    711360\n",
              " 4     673170\n",
              " 40    671594\n",
              " 38    641004\n",
              " 15    626398\n",
              " 8     624704\n",
              " Name: price, dtype: int64,\n",
              " id_product\n",
              " 19    940702\n",
              " 50    938619\n",
              " 4     909245\n",
              " 25    907392\n",
              " 5     903165\n",
              " 14    902310\n",
              " 40    847013\n",
              " 8     820612\n",
              " 35    797630\n",
              " 38    788592\n",
              " Name: price, dtype: int64)"
            ]
          },
          "metadata": {},
          "execution_count": 30
        }
      ]
    },
    {
      "cell_type": "code",
      "source": [
        "# También podemos incluir un análisis por Categoría y total vendido (nmv) pero lo dejaremos opcional sin mayor desarrollo\n",
        "def top_products_por_categoria(commerces_df, district_name, transactions_df, product_df, n_top=15):\n",
        "\n",
        "    district_commerces = commerces_df[commerces_df['district'] == district_name]['id_commerce']\n",
        "    district_transactions = transactions_df[transactions_df['id_commerce'].isin(district_commerces)]\n",
        "    district_transactions = district_transactions.merge(product_df[['id_product', 'category']], on='id_product')\n",
        "\n",
        "\n",
        "    district_transactions['total_value'] = district_transactions['price'] * district_transactions['quantity']\n",
        "    top_products_by_category = district_transactions.groupby(['category', 'id_product'])['total_value'].sum().reset_index()\n",
        "    top_products_by_category = top_products_by_category.sort_values(['category', 'total_value'], ascending=[True, False]).groupby('category').head(n_top)\n",
        "\n",
        "    return top_products_by_category\n",
        "\n"
      ],
      "metadata": {
        "id": "EwQR1tcVjy2X"
      },
      "execution_count": 85,
      "outputs": []
    },
    {
      "cell_type": "code",
      "source": [
        "# top products por comuna y categoría\n",
        "top_products_cat_pro = top_products_por_categoria(commerces_df, 'Providencia', transactions_df, product_df)\n",
        "top_products_cat_pen = top_products_por_categoria(commerces_df, 'Penalolen', transactions_df, product_df)\n",
        "top_products_cat_nun = top_products_por_categoria(commerces_df, 'Nunoa', transactions_df, product_df)\n",
        "top_products_cat_mac = top_products_por_categoria(commerces_df, 'Macul', transactions_df, product_df)\n",
        "top_products_cat_flo = top_products_por_categoria(commerces_df, 'La Florida', transactions_df, product_df)\n",
        "\n",
        "#(top_products_cat_pro,top_products_cat_pen,top_products_cat_nun,top_products_cat_mac,top_products_cat_flo)"
      ],
      "metadata": {
        "id": "aLAT23dir7Wv"
      },
      "execution_count": 88,
      "outputs": []
    },
    {
      "cell_type": "markdown",
      "source": [
        "## Recomendación por comercio"
      ],
      "metadata": {
        "id": "FFBTJbN5svN1"
      }
    },
    {
      "cell_type": "code",
      "source": [
        "def recomendacion(id_commerce):\n",
        "    # Identificar la comuna del comercio\n",
        "    commerce_district = commerces_df[commerces_df['id_commerce'] == id_commerce]['district'].values[0]\n",
        "    purchased_products = transactions_df[transactions_df['id_commerce'] == id_commerce]['id_product'].unique()\n",
        "\n",
        "    if commerce_district == 'Providencia':\n",
        "        top_units=top_units_pro\n",
        "        top_nmv=top_nmv_pro\n",
        "\n",
        "    elif commerce_district == 'Penalolen':\n",
        "        top_units=top_units_pen\n",
        "        top_nmv=top_nmv_pen\n",
        "\n",
        "    elif commerce_district == 'Nunoa':\n",
        "        top_units=top_units_nun\n",
        "        top_nmv=top_nmv_nun\n",
        "\n",
        "    elif commerce_district == 'Macul':\n",
        "        top_units=top_units_mac\n",
        "        top_nmv=top_nmv_mac\n",
        "\n",
        "    elif commerce_district == 'La Florida':\n",
        "        top_units=top_units_flo\n",
        "        top_nmv=top_nmv_flo\n",
        "\n",
        "    rec_nmv = top_nmv[~top_nmv.isin(purchased_products)].index.to_list()\n",
        "    rec_units = top_units[~top_units.isin(purchased_products)].index.to_list()\n",
        "    rec_units = list(set(rec_units) - set(rec_nmv)) #Eliminar redundancia de doble recomendaciones en listas\n",
        "\n",
        "\n",
        "\n",
        "    return commerce_district,rec_nmv,rec_units"
      ],
      "metadata": {
        "id": "nv5QrEx0sIlt"
      },
      "execution_count": 105,
      "outputs": []
    },
    {
      "cell_type": "markdown",
      "source": [
        "### Uso del recomendador"
      ],
      "metadata": {
        "id": "e-4-d68u38Ab"
      }
    },
    {
      "cell_type": "code",
      "source": [
        "#Ingrese id en la siguiente variable\n",
        "\n",
        "id_comercio =3 #CAMBIAR ID POR EL QUE NECESITES CONSULTAR\n",
        "\n",
        "comuna,recomendacion_nmv,recomendacion_unidades=recomendacion(id_comercio)\n",
        "\n",
        "print('Para el comercio con id '+ str(id_comercio) +' de la comuna '+ comuna +'Se recomiendan los siguientes articulos para aumentar NMV:\\n'\n",
        "+ str(recomendacion_nmv) +'\\n'+\n",
        "'Puedes incluir los siguientes articulos si desea aumentar volumen de unidades vendidas:\\n'+ str(recomendacion_unidades))"
      ],
      "metadata": {
        "colab": {
          "base_uri": "https://localhost:8080/"
        },
        "id": "DqtB48tF5JK0",
        "outputId": "7ef8efbe-129d-4bf6-daf7-121ae3c9cb4d"
      },
      "execution_count": 107,
      "outputs": [
        {
          "output_type": "stream",
          "name": "stdout",
          "text": [
            "Para el comercio con id 3 de la comuna PenalolenSe recomiendan los siguientes articulos para aumentar NMV:\n",
            "[50, 19, 25, 4, 14, 5, 40, 8, 38, 7]\n",
            "Puedes incluir los siguientes articulos si desea aumentar volumen de unidades vendidas:\n",
            "[2, 10, 47, 20, 24, 31]\n"
          ]
        }
      ]
    },
    {
      "cell_type": "code",
      "source": [],
      "metadata": {
        "id": "aLJBoq3e4-Sl"
      },
      "execution_count": null,
      "outputs": []
    }
  ]
}